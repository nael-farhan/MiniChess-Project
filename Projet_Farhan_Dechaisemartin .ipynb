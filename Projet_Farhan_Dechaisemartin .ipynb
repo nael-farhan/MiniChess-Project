{
  "nbformat": 4,
  "nbformat_minor": 0,
  "metadata": {
    "colab": {
      "name": "Projet_Farhan_Dechaisemartin.ipynb",
      "provenance": [],
      "collapsed_sections": []
    },
    "kernelspec": {
      "display_name": "Python 3",
      "language": "python",
      "name": "python3"
    },
    "language_info": {
      "codemirror_mode": {
        "name": "ipython",
        "version": 3
      },
      "file_extension": ".py",
      "mimetype": "text/x-python",
      "name": "python",
      "nbconvert_exporter": "python",
      "pygments_lexer": "ipython3",
      "version": "3.8.3"
    }
  },
  "cells": [
    {
      "cell_type": "markdown",
      "metadata": {
        "id": "gajzP6mWw2tf"
      },
      "source": [
        "**Projet de programmation : Mini-échecs (5x6) et algorithmes Minimax et Alpha-Beta**\n",
        "\n",
        "*Vincent De Chaisemartin et Naël Farhan, Projet Python 1A ENSAE*\n"
      ]
    },
    {
      "cell_type": "markdown",
      "metadata": {
        "id": "z200KRLiLjmy"
      },
      "source": [
        "  **Introduction**"
      ]
    },
    {
      "cell_type": "markdown",
      "metadata": {
        "id": "xo-XyqBrP_HU"
      },
      "source": [
        "   L’immense succès du Jeu de la Dame, série produite par Netflix, a grandement contribué au récent renouveau des échecs, jeu déjà très populaire auparavant, mais qui a vu son nombre de pratiquants très fortement croître ces derniers mois.\n",
        "\n",
        "Ce renouveau a lieu dans un contexte de remise en cause de certains aspects de la pratique traditionnelle des échecs. Ainsi, les parties officielles sont tout d’abord souvent décriées parce que trop longues pour générer l’intérêt d’un large public, que ce soit en tant que joueur ou en tant que spectateur. L’accélération des cadences, avec le développement du blitz (des parties durant moins de 10 minutes), permet de remédier à cela.\n",
        "\n",
        "Cependant, un autre aspect des échecs peut freiner leur attractivité auprès du grand public. En effet, l’étude de ce jeu depuis des siècles a engendré l’écriture de nombreux traités de théorie qu’il s’agit de maîtriser si l’on souhaite jouer convenablement, ce qui peut rebuter les néophytes souhaitant pouvoir rapidement prendre du plaisir en jouant.\n",
        "\n",
        "C’est pourquoi nous croyons que l’avenir est aux variantes comme Minichess : n’ayant pas connu de tels développements théoriques, elles permettent aux joueurs de confronter leurs capacités de calcul et de compréhension pure des positions plutôt que l’étendue de leurs connaissances en matière d’ouverture et de finales, phases du jeu particulièrement décortiquées par la théorie du jeu d’échecs. Par ailleurs, elle peut permettre aux débutants souhaitant apprendre les échecs classiques de se concentrer sur ces aspects du jeu qui font la différence avant de commencer à étudier la théorie.\n",
        "\n",
        "Minitchess, la variante que nous allons vous présenter, se joue sur un plateau de taille 5x6, contrairement aux échecs classiques qui se jouent sur un plateau 8x8. Chaque joueur dispose d’une tour, d’un cavalier, d’un fou, d’une reine et d’un roi dans l’ordre de gauche à droite sur la première rangée, et de pions sur la deuxième rangée. Les blancs commencent, et un joueur l’emporte quand il prend le roi adverse (en sachant qu’il est possible de placer le roi sur une case où il peut être pris). Si 40 coups sont joués de chaque côté sans qu’émerge un vainqueur, la partie se termine en match nul. Les pièces se déplacent comme dans la version originale du jeu, à ceci près que le fou peut, en plus de ses déplacements habituels, se déplacer d’une case au nord, à l’est, à l’ouest ou au sud, à condition qu’aucune pièce adverse ne s’y trouve. Contrairement aux échecs classiques, le roque et le double mouvement des pions sont interdits. Enfin, quand un pion atteint l’autre côté du plateau, il est automatiquement promu en dame.\n",
        "\n",
        "Dans ce notebook, nous coderons tout d'abord différents objets sous forme de classe afin de définir les règles ainsi que plusieurs fonctions permettant de mettre à jour le plateau. Nous présenterons ensuite 2 algorithmes d'intelligence artificielle qui peuvent jouer aux mini-échecs, en se basant sur les algorithmes mini-max, puis nous donnerons la possibilité au lecteur de jouer contre l'un de ces algorithmes. Nous ferons enfin jouer les différents algorithmes entre eux, afin de tenter de déterminer si les améliorations se ressentent dans les résultats.\n"
      ]
    },
    {
      "cell_type": "markdown",
      "metadata": {
        "id": "f7NWlPP1WMXI"
      },
      "source": [
        "Nous n'aurons besoin que des module 'time' et 'random' dans ce projet, le reste étant fait à la main car il n'y a pas de module d'échecs en 5x6 sur Python. Nous créons également 2 dictionnaires qui créent des correspondances entre la notation classique (anglaise) des échecs ('p' : pion noir, 'R' : tour blanche par exemple) avec des noms de pièces, ainsi qu'avec des symboles de pièces d'échecs."
      ]
    },
    {
      "cell_type": "code",
      "metadata": {
        "id": "BKRExV-jXLbf"
      },
      "source": [
        "import time\n",
        "import random\n",
        "\n",
        "pieces_aff = {'r':'♜', 'n':'♞', 'b':'♝', 'q':'♛', 'k':'♚', 'p':'♟','R':'♖', 'N':'♘', 'B':'♗', 'Q':'♕', 'K':'♔', 'P':'♙', '.':'·'}\n",
        "pieces_noms = {\n",
        "        'p': 'pawn', 'n': 'knight', 'b': 'bishop', 'r': 'rook', 'q': 'queen',\n",
        "        'P': 'pawn', 'N': 'knight', 'B': 'bishop', 'R': 'rook', 'Q': 'queen',\n",
        "        'k': 'king', 'K': 'king', '.': 'empty'    }\n"
      ],
      "execution_count": 1,
      "outputs": []
    },
    {
      "cell_type": "markdown",
      "metadata": {
        "id": "cFVdA5RpRtfI"
      },
      "source": [
        "**I - Construction du plateau, implémentation des règles et fonctions auxiliaires**"
      ]
    },
    {
      "cell_type": "markdown",
      "metadata": {
        "id": "fl7xyVUEU70Q"
      },
      "source": [
        "Nous codons tout d'abord 3 classes d'objets : le plateau dans une certaine position, un coup avec la pièce associée et les cases d'arrivée et de départ et une case avec la pièce qui y est présente s'il y en a une. Pour les classes 'coup' et 'case', nous ajoutons également quelques courtes fonctions qui suivront dans la suite."
      ]
    },
    {
      "cell_type": "code",
      "metadata": {
        "id": "JsEr0Y8iVOFb"
      },
      "source": [
        "class Position:\n",
        "    \n",
        "    def __init__(self, plateau=None, coup=None, coups_joues=None):\n",
        "        if plateau is None: # début de partie si pas de position donnée en argument\n",
        "            self.plateau = []\n",
        "            self.plateau.append(['k', 'q', 'b', 'n', 'r'])\n",
        "            self.plateau.append(['p', 'p', 'p', 'p', 'p'])\n",
        "            self.plateau.append(['.', '.', '.', '.', '.'])\n",
        "            self.plateau.append(['.', '.', '.', '.', '.'])\n",
        "            self.plateau.append(['P', 'P', 'P', 'P', 'P'])\n",
        "            self.plateau.append(['R', 'N', 'B', 'Q', 'K'])\n",
        "            self.coup = 'W' # définit à qui le tour, à ne pas confondre avec un coup, initialisé au joueur blanc\n",
        "            self.coups_joues = 1\n",
        "        else:\n",
        "            self.plateau = plateau\n",
        "        self.coup = 'W' if coup is None else coup\n",
        "        self.coups_joues = 1 if coups_joues is None else coups_joues # servira quand il faudra déterminer s'il y a match nul, à plus de 40 coups joués\n",
        "\n",
        "        maj_pieces(self) # la fonction maj_pieces est définie plus tard \n",
        "        self.valeur_pieces = {\n",
        "          'k': 200, 'q': 9, 'r': 5, 'b': 3, 'n': 3, 'p': 1,\n",
        "          'K': 200, 'Q': 9, 'R': 5, 'B': 3, 'N': 3, 'P': 1 } # on donne des valeurs aux pièces, ce qui servira lors des définitions des fonctions d'évaluation\n",
        "        \n",
        "        self.coups = genere_coups(self) # genere_coups est aussi définie plus tard\n",
        "        self.coups_strings = [m.en_string() for m in self.coups] # c'est la fonction en_string de la classe coup\n",
        "\n",
        "        self.ancienne_position = [] # servira à l'annulation de coups lorsque les algortihmes minmax parcourront les coups possibles\n",
        "        # les 3 outils suivant serviront pour l'utilisation des algorithmes minmax\n",
        "        self.time_spent = 0\n",
        "        self.time_counter = 0\n",
        "        self.time_limit = 0 \n",
        "\n",
        "class Case:\n",
        "    def __init__(self, ligne, col, val):\n",
        "        assert ligne <= 5 and ligne >= 0\n",
        "        assert col <= 4 and col >= 0\n",
        "        self.ligne = ligne\n",
        "        self.col = col\n",
        "        self.val = val\n",
        "        self.name = pieces_noms.get(val)\n",
        "\n",
        "    def __eq__(self, other):# permet de comparer deux cases en appelant '=='\n",
        "        if self.ligne == other.ligne and self.col == other.col:\n",
        "            if self.val == other.val:\n",
        "                return True\n",
        "        return False\n",
        "\n",
        "    def en_string(self):\n",
        "        return '{} (ligne: {}, col: {})'.format(self.val, self.ligne, self.col)\n",
        "\n",
        "    def rank(self): # est utile pour afficher le plateau avec la notation classique 'lettre-chiffre' pour une case\n",
        "        return '{}{}'.format(chr(ord('a') + self.col), 6 - self.ligne)\n",
        "\n",
        "    def print_case(self):\n",
        "        print(self.en_string())\n",
        "\n",
        "class Coup:\n",
        "    def __init__(self, depuis_case, vers_case):\n",
        "        self.vers_case = vers_case\n",
        "        self.depuis_case = depuis_case\n",
        "\n",
        "    def en_string(self):\n",
        "        return '{}-{}'.format(self.depuis_case.rank(), self.vers_case.rank())\n",
        "\n",
        "def print_coup(coup, verbose=False):\n",
        "    if verbose:\n",
        "        print('{} -> {}'.format(\n",
        "            coup.depuis_case.en_string(), coup.vers_case.en_string()\n",
        "        ))\n",
        "    else:\n",
        "        print(coup.en_string())"
      ],
      "execution_count": 2,
      "outputs": []
    },
    {
      "cell_type": "code",
      "metadata": {
        "colab": {
          "base_uri": "https://localhost:8080/"
        },
        "id": "tPuyExsnihjX",
        "outputId": "3b26236f-92d5-440e-be2d-f8458af4b42a"
      },
      "source": [
        "## A quoi ça ressemble pour l'instant ?\n",
        "Position().plateau"
      ],
      "execution_count": null,
      "outputs": [
        {
          "output_type": "execute_result",
          "data": {
            "text/plain": [
              "[['k', 'q', 'b', 'n', 'r'],\n",
              " ['p', 'p', 'p', 'p', 'p'],\n",
              " ['.', '.', '.', '.', '.'],\n",
              " ['.', '.', '.', '.', '.'],\n",
              " ['P', 'P', 'P', 'P', 'P'],\n",
              " ['R', 'N', 'B', 'Q', 'K']]"
            ]
          },
          "metadata": {
            "tags": []
          },
          "execution_count": 7
        }
      ]
    },
    {
      "cell_type": "code",
      "metadata": {
        "colab": {
          "base_uri": "https://localhost:8080/"
        },
        "id": "JLChsPX8jQ7m",
        "outputId": "aeb538a5-fa78-4ac5-adfc-063a19920689"
      },
      "source": [
        "Position().coups_strings"
      ],
      "execution_count": null,
      "outputs": [
        {
          "output_type": "execute_result",
          "data": {
            "text/plain": [
              "['a2-a3', 'b2-b3', 'c2-c3', 'd2-d3', 'e2-e3', 'b1-a3', 'b1-c3']"
            ]
          },
          "metadata": {
            "tags": []
          },
          "execution_count": 8
        }
      ]
    },
    {
      "cell_type": "code",
      "metadata": {
        "colab": {
          "base_uri": "https://localhost:8080/"
        },
        "id": "Jlpi6nT0jgYJ",
        "outputId": "93ca3937-a312-400c-baf8-8bcb55e035c1"
      },
      "source": [
        "Position().coups[0].depuis_case.print_case()\n",
        "## c'est le pion blanc en case a2 (la correspondance viendra après)"
      ],
      "execution_count": null,
      "outputs": [
        {
          "output_type": "stream",
          "text": [
            "P (ligne: 4, col: 0)\n"
          ],
          "name": "stdout"
        }
      ]
    },
    {
      "cell_type": "markdown",
      "metadata": {
        "id": "ahdcJNV_ad4G"
      },
      "source": [
        "Voici maintenant plusieurs fonctions qui s'appliquent à un plateau : ce sont ces fonctions qui implémentent les règles"
      ]
    },
    {
      "cell_type": "code",
      "metadata": {
        "id": "fqzYHKIUajhS"
      },
      "source": [
        "def maj_pieces(position):\n",
        "    #met à jour les pièces et leur position sur le plateau\n",
        "    position.pieces_noires = []\n",
        "    position.pieces_blanches = []\n",
        "    for ligne in range(6):\n",
        "        for col in range(5):\n",
        "            piece = position.plateau[ligne][col]\n",
        "            if piece.isupper():\n",
        "                position.pieces_blanches.append(piece)\n",
        "            elif piece.islower():\n",
        "                position.pieces_noires.append(piece)\n",
        "\n",
        "def print_position(position): \n",
        "    print(position.coup, position.coups_joues) # montre à qui est le tour, et combien de coups ont été joué\n",
        "    r_num = 6\n",
        "    for ligne in range(6):\n",
        "        for col in range(5):\n",
        "            print(pieces_aff.get(position.plateau[ligne][col]), end=' ')\n",
        "        print('{} '.format(r_num))\n",
        "        r_num -= 1\n",
        "    for i in range(0, 5):\n",
        "        print(chr(ord('a') + i), end=' ')\n",
        "    print('')\n",
        "\n",
        "def recupere_pieces(position): #récupère les pièces (de type 'case') du plateau\n",
        "    pieces = []\n",
        "    for ligne in range(6):\n",
        "        for col in range(5):\n",
        "            val = position.plateau[ligne][col]\n",
        "            if str.isupper(val) and position.coup == 'W':\n",
        "                pieces.append(Case(ligne, col, val))\n",
        "            elif str.islower(val) and position.coup == 'B':\n",
        "                pieces.append(Case(ligne, col, val))\n",
        "    return pieces\n",
        "\n",
        "def scan(position, piece, dl, dc, stop_short, capture):\n",
        "    ligne = piece.ligne\n",
        "    col = piece.col\n",
        "    coups = []\n",
        "    while True: \n",
        "        ligne = ligne + dl\n",
        "        col = col + dc\n",
        "        if ligne < 0 or ligne >= 6:\n",
        "            break\n",
        "        if col < 0 or col >= 5:\n",
        "            break\n",
        "        val = position.plateau[ligne][col]\n",
        "        if val != '.':  # une pièce est présente\n",
        "            if str.isupper(val) and position.coup == 'W':\n",
        "                break\n",
        "            if str.islower(val) and position.coup == 'B':\n",
        "                break\n",
        "            if str(capture) == 'false':\n",
        "                break\n",
        "            stop_short = True\n",
        "        elif str(capture) == 'only':\n",
        "            break\n",
        "        coup_ = Coup(piece, Case(ligne, col, val))\n",
        "        coups.append(coup_)\n",
        "        if stop_short is True:\n",
        "            break\n",
        "    return coups\n",
        "\n",
        "def sym_scan(position, piece, dl, dc, stop_short, capture): # les dl et dc sont utilisés astucieusement pour trouver les cases atteignables par une pièce\n",
        "    coups = []\n",
        "    for i in range(0, 4):\n",
        "        coups += scan(position, piece, dl, dc, stop_short, capture)\n",
        "        dl, dc = dc, dl\n",
        "        dl = dl * -1\n",
        "    return coups\n",
        "\n",
        "def genere_coups_pour_piece(position, piece):\n",
        "    coups = []\n",
        "    if piece.name == 'pawn':\n",
        "        dl = 1\n",
        "        if position.coup == 'W':\n",
        "            dl = -1\n",
        "        coups += scan(position, piece, dl, -1, True, 'only')\n",
        "        coups += scan(position, piece, dl, 1, True, 'only')\n",
        "        coups += scan(position, piece, dl, 0, True, 'false')\n",
        "    elif piece.name == 'knight':\n",
        "        coups += sym_scan(position, piece, -1, 2, True, 'true')\n",
        "        coups += sym_scan(position, piece, 1, 2, True, 'true')\n",
        "    elif piece.name == 'rook' or piece.name == 'bishop':\n",
        "        stop_short = True if piece.name == 'bishop' else False\n",
        "        capture = 'true' if piece.name == 'rook' else 'false'\n",
        "        coups += sym_scan(position, piece, 1, 0, stop_short, capture)\n",
        "        if piece.name == 'bishop':\n",
        "            stop_short = False\n",
        "            capture = 'true'\n",
        "            coups += sym_scan(position, piece, 1, 1, stop_short, capture)\n",
        "    elif piece.name == 'king' or piece.name == 'queen':  \n",
        "        stop_short = True if piece.name == 'king' else False\n",
        "        coups += sym_scan(position, piece, 0, 1, stop_short, 'true')\n",
        "        coups += sym_scan(position, piece, 1, 1, stop_short, 'true')\n",
        "    return coups\n",
        "\n",
        "def genere_coups(position):\n",
        "    coups = []\n",
        "    pieces = recupere_pieces(position)\n",
        "    for piece in pieces:\n",
        "        coups += genere_coups_pour_piece(position, piece)\n",
        "    return coups"
      ],
      "execution_count": 3,
      "outputs": []
    },
    {
      "cell_type": "markdown",
      "metadata": {
        "id": "ZekbmoODYX1B"
      },
      "source": [
        "Réalisons un test unitaire sur la fonction genere_coups_pour_piece : dans la situation initiale, pour le pion blanc en a2, le seul coup possible est a3 ; pour le cavalier en b1, les coups possibles sont a3 ou c3. Maintenant, supposons que les blancs jouent a2-a3 : la dame noire en b6 ne peut aller nulle part, tout comme le roi noir en a6."
      ]
    },
    {
      "cell_type": "code",
      "metadata": {
        "colab": {
          "base_uri": "https://localhost:8080/"
        },
        "id": "LAbHjOYBZIop",
        "outputId": "76f25d32-ecb6-4923-85cb-5958094abb1a"
      },
      "source": [
        "import unittest\n",
        "\n",
        "a = Position()\n",
        "\n",
        "b = Position()\n",
        "coup_b = Coup(Case(4,0,'P'),Case(3,0,'.'))\n",
        "joue_coup(b,coup_b)  # fonction définie plus bas, qui ne fait pas appel à genere_coups_pour_piece\n",
        "\n",
        "class Testgenere(unittest.TestCase):\n",
        "  # quand c'est aux blancs de jouer\n",
        "  def test_pion_a2(self):\n",
        "    c = Case(4,0,'P')\n",
        "    g = genere_coups_pour_piece(a,c)\n",
        "    self.assertEqual(len(g),1)\n",
        "    self.assertEqual(g[0].en_string(),'a2-a3')\n",
        "\n",
        "  def test_cav_b1(self):\n",
        "    c = Case(5,1,'n')\n",
        "    g = genere_coups_pour_piece(a,c)\n",
        "    self.assertEqual(len(g),2)\n",
        "    self.assertEqual(g[0].en_string(),'b1-a3')\n",
        "    self.assertEqual(g[1].en_string(),'b1-c3')\n",
        "  \n",
        "  # quand c'est aux noirs de jouer\n",
        "  def test_roi_a6(self):\n",
        "    c = Case(0,0,'k')\n",
        "    g = genere_coups_pour_piece(b,c)\n",
        "    self.assertEqual(g,[])\n",
        "\n",
        "  def test_dame_b6(self):\n",
        "    c = Case(0,1,'q')\n",
        "    g = genere_coups_pour_piece(b,c)\n",
        "    self.assertEqual(g,[])\n",
        "\n",
        "unittest.main(argv=[''], verbosity=2, exit=False)\n"
      ],
      "execution_count": null,
      "outputs": [
        {
          "output_type": "stream",
          "text": [
            "test_cav_b1 (__main__.Testgenere) ... ok\n",
            "test_dame_b6 (__main__.Testgenere) ... ok\n",
            "test_pion_a2 (__main__.Testgenere) ... ok\n",
            "test_roi_a6 (__main__.Testgenere) ... ok\n",
            "\n",
            "----------------------------------------------------------------------\n",
            "Ran 4 tests in 0.009s\n",
            "\n",
            "OK\n"
          ],
          "name": "stderr"
        },
        {
          "output_type": "execute_result",
          "data": {
            "text/plain": [
              "<unittest.main.TestProgram at 0x7f5a4c18c3d0>"
            ]
          },
          "metadata": {
            "tags": []
          },
          "execution_count": 10
        }
      ]
    },
    {
      "cell_type": "code",
      "metadata": {
        "colab": {
          "base_uri": "https://localhost:8080/"
        },
        "id": "S-EA_FvrwhDJ",
        "outputId": "8bc97da7-89bd-439e-ecb4-de4798fe8df2"
      },
      "source": [
        "# Exemple de la situation de départ\n",
        "a=Position()\n",
        "print_position(a)"
      ],
      "execution_count": null,
      "outputs": [
        {
          "output_type": "stream",
          "text": [
            "W 1\n",
            "♚ ♛ ♝ ♞ ♜ 6 \n",
            "♟ ♟ ♟ ♟ ♟ 5 \n",
            "· · · · · 4 \n",
            "· · · · · 3 \n",
            "♙ ♙ ♙ ♙ ♙ 2 \n",
            "♖ ♘ ♗ ♕ ♔ 1 \n",
            "a b c d e \n"
          ],
          "name": "stdout"
        }
      ]
    },
    {
      "cell_type": "markdown",
      "metadata": {
        "id": "gTB2zKbG3mWH"
      },
      "source": [
        "Nous nous sommes aperçus que sur ce notebook, un léger décalage se crée alors qu'il y a un alignement sur spyder ou pyzo ; c'est un petit problème que nous ne savons pas résoudre, mais qui gêne peu lorsque l'on joue."
      ]
    },
    {
      "cell_type": "markdown",
      "metadata": {
        "id": "1rrQcyvwfkF4"
      },
      "source": [
        "A présent viennent des fonctions qui peuvent jouer ou annuler un coup, ainsi qu'une fonction qui servira à l'utilisateur qui voudra jouer contre un des algorithmes : le joueur n'aura qu'à écire un coup sous la forme 'c2-c3' par exemple, et la fonction fera les modifications nécessaires."
      ]
    },
    {
      "cell_type": "code",
      "metadata": {
        "id": "-fMoWACigJHV"
      },
      "source": [
        "def joue_coup(position, coup):\n",
        "    depuis_case = coup.depuis_case\n",
        "    vers_case = coup.vers_case\n",
        "    piece = position.plateau[depuis_case.ligne][depuis_case.col]\n",
        "    dest = position.plateau[vers_case.ligne][vers_case.col]\n",
        "    position.ancienne_position.append((coup, piece, dest)) # sauvegarde le coup joué s'il est nécessaire de l'annuler plus tard\n",
        "    position.plateau[depuis_case.ligne][depuis_case.col] = '.'\n",
        "    position.plateau[vers_case.ligne][vers_case.col] = piece\n",
        "    # mise à jour des pièces si l'une a été prise\n",
        "    if dest != '.' and dest.islower():  # pièce noire\n",
        "        position.pieces_noires.remove(dest)\n",
        "    elif dest != '.' and dest.isupper():  # pièce blanche\n",
        "        position.pieces_blanches.remove(dest)\n",
        "    # promotion des pions en dame\n",
        "    if piece == 'p' and vers_case.ligne == 5:\n",
        "        position.plateau[vers_case.ligne][vers_case.col] = 'q'\n",
        "        position.pieces_noires.remove('p')\n",
        "        position.pieces_noires.append('q')\n",
        "    elif piece == 'P' and vers_case.ligne == 0:\n",
        "        position.plateau[vers_case.ligne][vers_case.col] = 'Q'\n",
        "        position.pieces_blanches.remove('P')\n",
        "        position.pieces_blanches.append('Q')\n",
        "    position.coup = 'B' if position.coup == 'W' else 'W'\n",
        "    position.coups_joues += 1 if position.coup == 'W' else 0\n",
        "\n",
        "def annule_coup(position):\n",
        "    if len(position.ancienne_position) > 0:\n",
        "        info = position.ancienne_position.pop()\n",
        "        coup = info[0]\n",
        "        piece = info[1]\n",
        "        dest = info[2]\n",
        "        depuis_case = coup.depuis_case\n",
        "        vers_case = coup.vers_case\n",
        "        # annule le coup\n",
        "        position.plateau[depuis_case.ligne][depuis_case.col] = piece\n",
        "        position.plateau[vers_case.ligne][vers_case.col] = dest\n",
        "        # remet en jeu la pièce qui avait été prise\n",
        "        if dest != '.' and dest.islower():\n",
        "            position.pieces_noires.append(dest)\n",
        "        elif dest != '.' and dest.isupper():\n",
        "            position.pieces_blanches.append(dest)\n",
        "        # cas d'annulation d'un coup de promotion\n",
        "        if piece == 'p' and vers_case.ligne == 5:\n",
        "            position.pieces_noires.append('p')\n",
        "            position.pieces_noires.remove('q')\n",
        "        elif piece == 'P' and vers_case.ligne == 0:\n",
        "            position.pieces_blanches.append('P')\n",
        "            position.pieces_blanches.remove('Q')\n",
        "        position.coups_joues -= 1 if position.coup == 'W' else 0\n",
        "        position.coup = 'B' if position.coup == 'W' else 'W'\n",
        "\n",
        "def envoyer_coup(position, coup_j):\n",
        "    def get_case_from_rank(rank):\n",
        "        assert len(rank) == 2\n",
        "        col = ord(rank[0]) - ord('a')\n",
        "        ligne = 6 - int(rank[1])\n",
        "        val = position.plateau[ligne][col]\n",
        "        return Case(ligne, col, val)\n",
        "    from_rank = coup_j.split('-')[0]\n",
        "    to_rank = coup_j.split('-')[1]\n",
        "    depuis_case = get_case_from_rank(from_rank)\n",
        "    vers_case = get_case_from_rank(to_rank)\n",
        "    coup_ = Coup(depuis_case, vers_case)\n",
        "    m_strings = [m.en_string() for m in genere_coups(position)]\n",
        "    if coup_.en_string() in m_strings:\n",
        "        return joue_coup(position, coup_)\n",
        "    else:\n",
        "        raise Exception('coup invalide')"
      ],
      "execution_count": 4,
      "outputs": []
    },
    {
      "cell_type": "markdown",
      "metadata": {
        "id": "9w6OzWVpg9GI"
      },
      "source": [
        "Nous définissons enfin une fonction qui détermine dans une position si la partie est toujours en cours, s'il y a match nul ou s'il y a un vainqueur."
      ]
    },
    {
      "cell_type": "code",
      "metadata": {
        "id": "e6ln6IUIhLaz"
      },
      "source": [
        "def vainqueur(position):\n",
        "    roi_noir = False\n",
        "    roi_blanc = False\n",
        "    for ligne in range(6):\n",
        "        for col in range(5):\n",
        "            if position.plateau[ligne][col] == 'k':\n",
        "                roi_noir = True\n",
        "            elif position.plateau[ligne][col] == 'K':\n",
        "                roi_blanc = True\n",
        "    if roi_noir and roi_blanc and position.coups_joues <= 40:\n",
        "        return '?'  # la partie est en cours\n",
        "    elif roi_noir and roi_blanc and position.coups_joues > 40:\n",
        "        return '='  # match nul\n",
        "    elif not roi_noir and roi_blanc:\n",
        "        return 'W'  # victoire des blancs\n",
        "    elif roi_noir and not roi_blanc:\n",
        "        return 'B'  # victoire des noirs\n",
        "    elif not roi_noir and not roi_blanc:\n",
        "        return '='\n"
      ],
      "execution_count": 5,
      "outputs": []
    },
    {
      "cell_type": "markdown",
      "metadata": {
        "id": "sbIXnWmGTxe5"
      },
      "source": [
        "**II - Implémentation des algorithmes de mini-max suivant différentes fonction d'évaluation**"
      ]
    },
    {
      "cell_type": "markdown",
      "metadata": {
        "id": "RC_tD1QMheSQ"
      },
      "source": [
        "Nous allons désormais implémenter deux algorithmes se basant sur les algorithmes minimax. Il nous faut pour cela tout d'abord définir des fonctions d'évaluation, qui donnent pour le joueur qui a la main un score par rapport à sa position. Plus le score est élevé, plus il est à l'avantage dudit joueur.\n",
        "\n",
        "La première fonction d'évaluation est relativement simple. En se basant sur les valeurs des différentes pièces définies dans la classe 'position', elle compare la somme des valeurs des pièces d'un joueur à celle de l'autre joueur. \n",
        "\n",
        "La deuxième ajoute une autre composante qui est celui du développement des pièces sur le plateau. Le score de développement est d'autant plus élevé que les pièces sont au centre du plateau, et que les pions sont loins de leur ligne. On garde quand même un poids important sur la \"différence de pièces\" entre les 2 joueurs pour cette fonction ; notons par ailleurs qu'en terme de complexité, elle ne rajoute pas beaucoup de calculs."
      ]
    },
    {
      "cell_type": "code",
      "metadata": {
        "id": "xwK4xL6Gj6lw"
      },
      "source": [
        "def evaluate_1(position):\n",
        "    player = 1 if position.coup == 'W' else -1\n",
        "    score_blanc = sum([position.valeur_pieces[piece] for piece in position.pieces_blanches])\n",
        "    score_noir = sum([position.valeur_pieces[piece] for piece in position.pieces_noires])\n",
        "    return (score_blanc - score_noir) * player\n",
        "\n",
        "def evaluate_2(position):\n",
        "    player = 1 if position.coup == 'W' else -1\n",
        "    score_blanc = sum([position.valeur_pieces[piece] for piece in position.pieces_blanches])\n",
        "    score_noir = sum([position.valeur_pieces[piece] for piece in position.pieces_noires])\n",
        "    score_pieces = ((score_blanc - score_noir) * player) * 100\n",
        "    dev_blanc = dev_noir = 0  # score sur l'avancement des pièces\n",
        "    for ligne in range(6):\n",
        "        for col in range(5):\n",
        "            piece = position.plateau[ligne][col]\n",
        "            if piece != '.':\n",
        "                if ligne > 2 and ligne < 5 and col > 0 and col < 4:\n",
        "                    if piece.isupper():\n",
        "                        dev_blanc += 1\n",
        "                    else:\n",
        "                        dev_noir += 1\n",
        "            if piece == 'P':\n",
        "                dev_blanc += 6 - ligne\n",
        "            elif piece == 'p':\n",
        "                dev_noir += ligne\n",
        "            elif piece in ['N', 'B', 'R'] and ligne != 5:\n",
        "                dev_blanc += 1\n",
        "            elif piece in ['n', 'b', 'r'] and ligne != 0:\n",
        "                dev_noir += 1\n",
        "    score_dev = (dev_blanc - dev_noir) * player\n",
        "    return score_pieces + score_dev"
      ],
      "execution_count": 6,
      "outputs": []
    },
    {
      "cell_type": "markdown",
      "metadata": {
        "id": "gQ38eSljm2xP"
      },
      "source": [
        "On définit aussi une fonction qui va renvoyer le meilleur des coups possibles pour un joueur, ce qui servira plus tard ; par \"meilleur\" on entend dans ce cas celui qui amène la meilleure évaluation après avoir joué ce coup (potentiellement on peut perdre une dame juste après)."
      ]
    },
    {
      "cell_type": "code",
      "metadata": {
        "id": "dkR0IVItnBWM"
      },
      "source": [
        "def coups_ord(position,evaluate):\n",
        "    coups = genere_coups(position)\n",
        "    coups_evalues = []\n",
        "    for coup in coups:\n",
        "        joue_coup(position, coup)\n",
        "        score = evaluate(position)\n",
        "        annule_coup(position)\n",
        "        coups_evalues.append((score, coup))\n",
        "    ord = sorted(coups_evalues, key=lambda x: x[0])\n",
        "    return [coup[1] for coup in ord]"
      ],
      "execution_count": 11,
      "outputs": []
    },
    {
      "cell_type": "markdown",
      "metadata": {
        "id": "hkORsB7emmGo"
      },
      "source": [
        "Voici maintenant les algos minimax et alpha beta, qui dépendent des fonction d'évaluation et sont toutes 2 récursives. \n",
        "Le premier algorithme est un algorithme classique dans de nombreux jeux qui se jouent à 2 ; Deep Blue, qui a battu le champion du monde d'échecs Kasparov à la fin des années 90, était un programme d'échecs basé sur le principe minimax.\n",
        "\n",
        "Cet algorithme se déroule sur un arbre qui représente tous les coups possibles jusqu'à une certaine profondeur, donnée en argument. Il se base sur le fait qu'un joueur cherche à maximiser sa position en anticipant que le joueur d'en face fasse de même. Plaçons nous dans le cas où un score élevé (et positif) est \"bon\" pour le joueur blanc, et un score bas (et négatif) est \"bon\" pour le joueur noir. Expliquons via un exemple comment cela fonctionne : on supposera ici que seuls deux coups sont possibles à chaque fois. Evidemment aux échecs il y en a bien plus, et le nombre de fils d'un noeud n'est pas fixe puisqu'au fil du jeu des pièces peuvent avoir accès à plus ou moins de cases.\n"
      ]
    },
    {
      "cell_type": "markdown",
      "metadata": {
        "id": "6eXdS0lw3iCs"
      },
      "source": [
        "![arbre exemple petit.png](data:image/png;base64,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)"
      ]
    },
    {
      "cell_type": "markdown",
      "metadata": {
        "id": "xs3wrgov3llj"
      },
      "source": [
        "On commence en bas à gauche de l'arbre. Dans les deux positions, c'est aux noirs de jouer ; les deux positions sont évaluées à -1 et 3. Sur le fils de ces deux noeuds, c'est aux blancs de jouer : pour maximiser sa position, il joue donc le coup qui mène au score 3 ; le poids de ce noeud correspond donc au maximum des poids, qui est 3. Pour le frère de ce noeud, on a comme score 5. Ainsi, le noeud noir à gauche sur la deuxième ligne correspond au tour des noirs. Ses deux choix mène à une évaluation de 3 ou de 5 ; comme le joueur noir veut minimiser ce score, il décide de jouer le coup menant à 3. En itérant ce procédé en fonction de la profondeur demandée, on arrive à un arbre qui permet pour le joueur blanc d'atteindre dans 4 coups un score de 3. \n",
        "\n",
        "Il est alors naturel d'utiliser la récursivité pour implémenter l'algorithme.\n",
        "Nous ajoutons également une composante temporelle dans la durée de parcours de l'algorithme. Lorsque nous ferons jouer des algorithmes ensemble, nous pourrons ainsi faire en sorte que chacun aie le même temps de réflexion pour jouer un coup afin qu'ils puissent s'affronter \"équitablement\".\n",
        "\n",
        "Notons par ailleurs que dans notre code, nous avons décidé que la fonction d'évaluation dépende de qui doit jouer dans une position : le joueur cherche toujours à avoir un score élevé dans les positifs. Ceci explique l'appel à \"-minimax\" lors de l'appel récursif.\n",
        "\n",
        "Enfin, si plusieurs coups ont la même évaluation, l'algorithme en joue un au hasard."
      ]
    },
    {
      "cell_type": "code",
      "metadata": {
        "id": "V08qdfyGmuW2"
      },
      "source": [
        "def minimax(position, prof, evaluate): \n",
        "    position.time_counter += 1\n",
        "    if position.time_counter > 1000:\n",
        "        position.time_counter = 0\n",
        "        position.time_spent = int(time.time() * 1000) \n",
        "    if position.time_spent > position.time_limit:\n",
        "        return 0\n",
        "    if prof <= 0 or vainqueur(position) != '?':\n",
        "        return evaluate(position)\n",
        "    score = float('-inf')\n",
        "    coups = coups_ord(position,evaluate)\n",
        "    for coup in coups:\n",
        "        joue_coup(position, coup)\n",
        "        score = max(score, -minimax(position, prof - 1, evaluate))\n",
        "        annule_coup(position)\n",
        "    return score\n",
        "\n",
        "def joue_minimax(position, prof, duration, evaluate):\n",
        "    position.time_spent = int(time.time() * 1000)\n",
        "    position.time_limit = int(position.time_spent + duration)\n",
        "    position.time_counter = 0\n",
        "\n",
        "    coups = coups_ord(position, evaluate)\n",
        "    best_coup = ''\n",
        "    for d in range(1, prof + 1):\n",
        "        score = float('-inf')\n",
        "        candidate = []\n",
        "        for coup in coups:\n",
        "            joue_coup(position, coup)\n",
        "            temp = -minimax(position, d - 1, evaluate)\n",
        "            annule_coup(position)\n",
        "            if temp > score:\n",
        "                candidate = [coup]\n",
        "                score = temp\n",
        "            elif temp == score :\n",
        "              candidate.append(coup) \n",
        "        if position.time_spent > position.time_limit:\n",
        "            break\n",
        "        best_coup = random.choice(candidate)\n",
        "    if best_coup == '':\n",
        "        best_coup = coups[0]\n",
        "        print('Plus de temps, joue le meilleur coup à 1 coup')\n",
        "    return best_coup"
      ],
      "execution_count": 7,
      "outputs": []
    },
    {
      "cell_type": "markdown",
      "metadata": {
        "id": "v-HFxsCU8HA3"
      },
      "source": [
        "Une amélioration classique de cet algorithme est l'élagage alpha-beta. Il permet d'avoir à ne pas aller explorer des branches de l'arbre des possibles puisqu'elle ne serve à rien dans le parcours. Reprenons l'exemple précédent :"
      ]
    },
    {
      "cell_type": "markdown",
      "metadata": {
        "id": "KYsrJ1T7UzUK"
      },
      "source": [
        "![alpha beta 3.PNG](data:image/png;base64,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)"
      ]
    },
    {
      "cell_type": "markdown",
      "metadata": {
        "id": "PA3twK0MVRQh"
      },
      "source": [
        "On parcourt les coups de la dernière ligne. Après avoir évalué les premiers coups à -1 et 3, on arrive au noeud de valeur 5. On sait donc que l'algorithme minimax pondérera le père de ce noeud à une valeur supérieure à 5. Or, sur le noeud fils, c'est aux noirs de jouer, et il sait qu'il peut obtenir un score 3 (qui est inférieur à 5) en jouant à gauche dans l'arbre. Ainsi, évaluer ce noeud voisin du 5 est inutile puisque l'on arrivera jamais à cette situation. Dans cet exemple, un autre élagage conséquent se fait puisqu'on évite l'évaluation de 3 noeuds. Néanmoins, il est possible qu'il y aie peu d'élagages possibles dans l'arbre, mais l'algorithme reste plus efficace que le minimax et, pour une durée de parcours donnée, pourra aller plus en profondeur dans l'arbre.\n",
        "\n",
        "On va utiliser là encore de la récursivité. Le contrôle des branches à ne pas parcourir se fait via l'utilisation de variables alpha et beta, qui sont représentées sur l'exemple par 'a' et 'b'."
      ]
    },
    {
      "cell_type": "code",
      "metadata": {
        "id": "pRyKadr88Gg5"
      },
      "source": [
        "def alpha_beta(position, prof, alpha, beta, evaluate):\n",
        "    position.time_counter += 1\n",
        "    if position.time_counter > 1000:\n",
        "        position.time_counter = 0\n",
        "        position.time_spent = int(time.time() * 1000)\n",
        "    if position.time_spent > position.time_limit:\n",
        "        return 0\n",
        "    if prof <= 0 or vainqueur(position) != '?':\n",
        "        return evaluate(position)\n",
        "    score = float('-inf')\n",
        "    for coup in coups_ord(position, evaluate):\n",
        "        joue_coup(position, coup)\n",
        "        score = max(score, -alpha_beta(position, prof - 1, -beta, -alpha, evaluate))\n",
        "        annule_coup(position)\n",
        "        alpha = max(alpha, score)\n",
        "        if alpha >= beta:\n",
        "            break\n",
        "    return score\n",
        "\n",
        "def joue_alpha_beta(position, prof, duration, evaluate):\n",
        "    position.time_spent = int(time.time() * 1000)\n",
        "    position.time_limit = int(position.time_spent + duration)\n",
        "    position.time_counter = 0\n",
        "    best_coup = ''\n",
        "    coups = coups_ord(position, evaluate)\n",
        "    for d in range(1, prof + 1):\n",
        "        alpha = float('-inf')\n",
        "        beta = float('inf')\n",
        "        candidate = []\n",
        "        for coup in coups:\n",
        "            joue_coup(position, coup)\n",
        "            temp = -alpha_beta(position, d - 1, -beta, -alpha, evaluate)\n",
        "            annule_coup(position)\n",
        "            if temp > alpha:\n",
        "                candidate = [coup]\n",
        "                alpha = temp\n",
        "            elif temp == alpha:\n",
        "                candidate.append(coup)\n",
        "        if position.time_spent > position.time_limit:\n",
        "            break\n",
        "        best_coup = random.choice(candidate)\n",
        "    if best_coup == '':\n",
        "        best_coup = coups[0]\n",
        "        print('Plus de temps, joue le meilleur coup à 1 coup')\n",
        "    return best_coup"
      ],
      "execution_count": 8,
      "outputs": []
    },
    {
      "cell_type": "markdown",
      "metadata": {
        "id": "TFI0riGjUDbO"
      },
      "source": [
        "**III - Jouer contre l'algortihme de son choix**"
      ]
    },
    {
      "cell_type": "markdown",
      "metadata": {
        "id": "HhUsDVNvodFQ"
      },
      "source": [
        "Après ces longs préparatifs, nous pouvons enfin coder les fonctions permettant à n'importe quel utilisateur de jouer. Nous lui donnons la possibilité de jouer avec les blancs ou avec les noirs, et contre l'algorithme de son choix. \n",
        "L'utilisateur peut d'ailleurs reprendre une partie en cours s'il donne en argument un plateau déjà avancé. Il peut choisir contre quel algorithme jouer, et avec quelle fonction d'évaluation ce dernier sera implémenté. Si aucun algorithme n'est donné en argument, il jouera contre l'algorithme naïf qui joue le meilleur coup possible à un coup près (qui peut par exemple manger un pion même si cela implique de perdre sa dame au coup suivant).\n",
        "\n",
        "En ce qui concerne le jeu des algorithmes, on fixe un certain temps de parcours, égal pour les 2 algorithmes ; en théorie alpha_beta est meilleur donc on lui propose d'aller plus en profondeur dans l'arbre des possibles. Néanmoins, si l'on arrive à battre ces algorithmes, on pourra augmenter ces valeurs (profondeur et 'duration') pour augmenter la difficulté."
      ]
    },
    {
      "cell_type": "code",
      "metadata": {
        "id": "LFKoN3q8wB_J"
      },
      "source": [
        "def blanc_contre_algo(position,evaluate,algo=None):\n",
        "    print(\"Vous jouez les blancs\")\n",
        "    while vainqueur(position) == '?':\n",
        "        print('________________________')\n",
        "        print_position(position)\n",
        "        if position.coup == 'W':\n",
        "            coup = input(\"ton coup: \")\n",
        "            try:\n",
        "                if coup == 'coups': # permet d'obtenir tous les coups possibles\n",
        "                    [print(m.en_string()) for m in genere_coups(position)]\n",
        "                else:\n",
        "                    envoyer_coup(position, coup)\n",
        "            except:\n",
        "                print('coup invalide, réessaie')\n",
        "                continue\n",
        "        else:\n",
        "            if algo == 'alpha_beta':\n",
        "                coup = joue_alpha_beta(position, 8, 3000, evaluate)\n",
        "            elif algo == 'minimax':\n",
        "                coup = joue_minimax(position, 4, 3000, evaluate)\n",
        "            else:  #ne joue que le meilleur coup à un coup près\n",
        "                coup = coups_ord(position, evaluate)[0]\n",
        "            print('algo joue {}'.format(coup.en_string()))\n",
        "            joue_coup(position, coup)\n",
        "    print('game over')\n",
        "    Loser = position.coup  \n",
        "    Vainqueur = 'B' if Loser == 'W' else 'W'\n",
        "    print('{} loses, {} wins'.format(Loser, vainqueur))\n",
        "    print_position(position)\n",
        "\n",
        "def noir_contre_algo(position, evaluate, algo=None):\n",
        "    print(\"Vous jouez les noirs\")\n",
        "    while vainqueur(position) == '?':\n",
        "        print('________________________')\n",
        "        print_position(position)\n",
        "        if position.coup == 'B':\n",
        "            coup = input(\"ton coup: \")\n",
        "            try:\n",
        "                if coup == 'coups':\n",
        "                    [print(m.en_string()) for m in genere_coups(position)]\n",
        "                else:\n",
        "                    envoyer_coup(position, coup)\n",
        "            except:\n",
        "                print('coup invalide, réessaie')\n",
        "                continue\n",
        "        else:\n",
        "            if algo == 'alpha_beta':\n",
        "                coup = joue_alpha_beta(position, 8, 3000, evaluate)\n",
        "            elif algo == 'minimax':\n",
        "                coup = joue_minimax(position, 4, 3000, evaluate)\n",
        "            else:  #ne joue que le meilleur coup à un coup près\n",
        "                coup = coups_ord(position, evaluate)[0]\n",
        "            print('algo joue {}'.format(coup.en_string()))\n",
        "            joue_coup(position, coup)\n",
        "    print('game over')\n",
        "    Loser = position.coup  \n",
        "    Vainqueur = 'B' if Loser == 'W' else 'W'\n",
        "    print('{} loses, {} wins'.format(Loser, Vainqueur))\n",
        "    print_position(position)"
      ],
      "execution_count": 9,
      "outputs": []
    },
    {
      "cell_type": "code",
      "metadata": {
        "id": "dxgG6Zolxa9v"
      },
      "source": [
        "# A vous de jouer :\n",
        "a = Position()\n",
        "b = evaluate_1  #mettre evaluate_1 ou evaluate_2\n",
        "c = 'minimax' #mettre dans les guillemets minimax ou alpha_beta \n",
        "blanc_contre_algo(a, b, c) #enlever c si on veut jouer contre l'algorithme naïf, et remplacer blanc par noir si on veut jouer les noirs"
      ],
      "execution_count": null,
      "outputs": []
    },
    {
      "cell_type": "markdown",
      "metadata": {
        "id": "LJo2yjkGc1Nl"
      },
      "source": [
        "Voici à quoi ressemble l'interface de jeu sur pyzo :"
      ]
    },
    {
      "cell_type": "markdown",
      "metadata": {
        "id": "ZHGTuEK7dNZN"
      },
      "source": [
        "![je.PNG](data:image/png;base64,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)"
      ]
    },
    {
      "cell_type": "markdown",
      "metadata": {
        "id": "2WMeJ6nyUPFI"
      },
      "source": [
        "**IV - Comparaison statistique des algorithmes**"
      ]
    },
    {
      "cell_type": "markdown",
      "metadata": {
        "id": "vHwKE_oWB94r"
      },
      "source": [
        "Maintenant que nous avons implémenté différents algorithmes, se pose la question de déterminer lequel est le plus efficace en terme de réussite, puisqu'ils tournent chacun pendant la même durée à chaque coup. Nous avons donc construit une fonction permettant de faire jouer deux algorithmes munis de leur fonction d'évaluation respective l'un contre l'autre."
      ]
    },
    {
      "cell_type": "code",
      "metadata": {
        "id": "ecOa_9j9eQPU"
      },
      "source": [
        "def coup_algo (position, evaluate, algo=None):\n",
        "  if algo == 'minimax':\n",
        "    coup=joue_minimax(position, 3, 3000, evaluate)\n",
        "  elif algo == 'alpha_beta':\n",
        "    coup = joue_alpha_beta(position, 5, 3000, evaluate)\n",
        "  else:\n",
        "   coup = coups_ord(position, evaluate)[0]\n",
        "  joue_coup(position, coup)\n",
        "\n",
        "def algo_vs_algo(evaluate_n,evaluate_b,algo_n=None,algo_b=None): \n",
        "    a=Position()\n",
        "    while vainqueur(a) == '?':\n",
        "        if a.coup == 'W':\n",
        "            coup_algo(a,evaluate_b,algo_b)\n",
        "        else:\n",
        "            coup_algo(a,evaluate_n,algo_n)\n",
        "    return vainqueur(a)\n",
        "\n",
        "\n",
        "def apply_algo_vs_algo(evaluate_b,evaluate_n,algo_b=None,algo_n=None):\n",
        "    result=algo_vs_algo(evaluate_b,evaluate_n,algo_b,algo_n)\n",
        "    if result=='=':\n",
        "      print('Match nul')\n",
        "    elif result=='W':\n",
        "      print('Victoire des Blancs')\n",
        "    elif result=='B':\n",
        "      print('Victoire des Noirs')\n"
      ],
      "execution_count": null,
      "outputs": []
    },
    {
      "cell_type": "markdown",
      "metadata": {
        "id": "VP9VJTjMIeqH"
      },
      "source": [
        "Puis la fonction définie ci-dessous nous permet de comparer à l'échelle de notre choix deux couples de fonctions d'évaluation et d'algorithmes qui s'affrontent au cours d'un match au cours duquel ils ont chacun autant de fois les noirs que les blancs."
      ]
    },
    {
      "cell_type": "code",
      "metadata": {
        "id": "8Je4Fa6RIfY0"
      },
      "source": [
        "def maj_score(score,result):\n",
        "  if result=='W':\n",
        "    score[0] +=1\n",
        "  elif result=='=':\n",
        "    score[1] +=1\n",
        "  elif result=='B':\n",
        "    score[2] +=1\n",
        "\n",
        "def stats(k, evaluate_x,evaluate_y,algo_x=None,algo_y=None):\n",
        "    l1 = [0,0,0]\n",
        "    l2 = [0,0,0]\n",
        "    for i in range(k):\n",
        "        result=[algo_vs_algo(evaluate_x,evaluate_y,algo_x,algo_y),algo_vs_algo(evaluate_y,evaluate_x,algo_y,algo_x)]\n",
        "        maj_score(l1, result[0])\n",
        "        maj_score(l2, result[1])\n",
        "    print('1e algo en blanc : ', 'Premier algorithme = ',l1[0],'Nuls = ',l1[1], 'Deuxième algorithme = ',l1[2])\n",
        "    print('2e algo en blanc : ', 'Premier algorithme = ',l2[2],'Nuls = ',l2[1], 'Deuxième algorithme = ',l2[0])"
      ],
      "execution_count": null,
      "outputs": []
    },
    {
      "cell_type": "markdown",
      "metadata": {
        "id": "QOKvd-QZN_ev"
      },
      "source": [
        "Lors des premières simulations, nous avons fait face à plusieurs obstacles.\n",
        "\n",
        "Tout d'abord, nous avions gardé des valeurs de profondeur et de \"duration\" acceptables lorsque l'algorithme est confronté à un utilisateur, qui n'a au maximum que quelques secondes à attendre. Mais lorsque nous avons fait jouer les algorithmes minimax entre eux (avec evaluate_1), la partie a duré près de 2mn ; pour les algorithmes alpha-beta, c'était aux alentours de 5mn. Ainsi, faire des statistiques de grande ampleur aurait pris trop de temps. Nous avons donc réduit la profondeur de l'arbre des coups à explorer. Vu la structure de ces arbres dans le cas des jeux d'échecs, réduire la profondeur de 1 peut théoriquement diviser le temps de parcours par bien plus que 2 (on peut parfois avoir plus de 10 coups possibles dans une position donnée).\n",
        "\n",
        "Ce problème temporel mis de côté, concentrons-nous sur les résultats des simulations. Ici, minimax est utilisé avec une profondeur de 3, et alpha-beta avec une profondeur de 5.\n"
      ]
    },
    {
      "cell_type": "code",
      "metadata": {
        "colab": {
          "base_uri": "https://localhost:8080/"
        },
        "id": "LT1mrJpfB2zl",
        "outputId": "54ac496d-3094-48cf-824b-d9fc0777d0f4"
      },
      "source": [
        "stats(50,evaluate_1,evaluate_2,'minimax','minimax')"
      ],
      "execution_count": null,
      "outputs": [
        {
          "output_type": "stream",
          "text": [
            "1e algo en blanc :  Premier algorithme =  25 Nuls =  12 Deuxième algorithme =  13\n",
            "2e algo en blanc :  Premier algorithme =  20 Nuls =  12 Deuxième algorithme =  18\n"
          ],
          "name": "stdout"
        }
      ]
    },
    {
      "cell_type": "code",
      "metadata": {
        "colab": {
          "base_uri": "https://localhost:8080/"
        },
        "id": "HseXrYKiLyUW",
        "outputId": "66b84837-e324-4cb0-b823-5403d3eaa472"
      },
      "source": [
        "stats(50,evaluate_1,evaluate_2,'alpha_beta','alpha_beta')"
      ],
      "execution_count": null,
      "outputs": [
        {
          "output_type": "stream",
          "text": [
            "1e algo en blanc :  Premier algorithme =  42 Nuls =  7 Deuxième algorithme =  1\n",
            "2e algo en blanc :  Premier algorithme =  44 Nuls =  4 Deuxième algorithme =  2\n"
          ],
          "name": "stdout"
        }
      ]
    },
    {
      "cell_type": "code",
      "metadata": {
        "colab": {
          "base_uri": "https://localhost:8080/"
        },
        "id": "6ReLCcDOPVap",
        "outputId": "348625c8-7ca1-48bc-f9fc-1b473c21a6a9"
      },
      "source": [
        "stats(50,evaluate_1,evaluate_1,'alpha_beta','minimax')"
      ],
      "execution_count": null,
      "outputs": [
        {
          "output_type": "stream",
          "text": [
            "1e algo en blanc :  Premier algorithme =  25 Nuls =  17 Deuxième algorithme =  8\n",
            "2e algo en blanc :  Premier algorithme =  26 Nuls =  14 Deuxième algorithme =  10\n"
          ],
          "name": "stdout"
        }
      ]
    },
    {
      "cell_type": "code",
      "metadata": {
        "colab": {
          "base_uri": "https://localhost:8080/"
        },
        "id": "osxqnLZgPiz3",
        "outputId": "d642d273-17c6-4b85-a337-f16cb12655ee"
      },
      "source": [
        "stats(50,evaluate_2,evaluate_2,'alpha_beta','minimax')"
      ],
      "execution_count": null,
      "outputs": [
        {
          "output_type": "stream",
          "text": [
            "1e algo en blanc :  Premier algorithme =  6 Nuls =  15 Deuxième algorithme =  29\n",
            "2e algo en blanc :  Premier algorithme =  8 Nuls =  19 Deuxième algorithme =  23\n"
          ],
          "name": "stdout"
        }
      ]
    },
    {
      "cell_type": "code",
      "metadata": {
        "colab": {
          "base_uri": "https://localhost:8080/"
        },
        "id": "Sn7xIJFTPyCa",
        "outputId": "e8ed4085-135c-4835-8c55-4b095ba65a48"
      },
      "source": [
        "stats(50,evaluate_2,evaluate_1,'alpha_beta','minimax')"
      ],
      "execution_count": null,
      "outputs": [
        {
          "output_type": "stream",
          "text": [
            "1e algo en blanc :  Premier algorithme =  3 Nuls =  14 Deuxième algorithme =  33\n",
            "2e algo en blanc :  Premier algorithme =  3 Nuls =  15 Deuxième algorithme =  32\n"
          ],
          "name": "stdout"
        }
      ]
    },
    {
      "cell_type": "markdown",
      "metadata": {
        "id": "FPQ6f0AuN5yT"
      },
      "source": [
        "Il s'agit tout d'abord de noter que même en réduisant la profondeur, l'échantillon ainsi obtenu pour chaque match reste relativement réduit.\n",
        "\n",
        "Cependant, on peut d'emblée remarquer que la fonction d'évaluation 2, pourtant plus élaborée et donc en théorie plus précise quant à la détermination du meilleur coup, est écrasée par la fonction d'évaluation 1 quand les deux sont associées à alpha-beta ; même cas de figure avec minimax, avec des résultats certes plus serrés.\n",
        "\n",
        "Par ailleurs, alpha-beta, à qui l'on associe une profondeur supérieure et qui est censé être plus rapide grâce au pruning, se fait battre à plates coutures par minimax lorsque l'on associe la fonction d'évaluation 2 aux deux, alors qu'il l'emporte assez largement avec la fonction d'évaluation 1.Ceci suggèrerait que la fonction d'évaluation 2 devient moins précise quand la profondeur augmente. Mais il est également concevable que la profondeur ne soit au contraire pas assez importante pour révéler les qualités de la fonction d'évaluation 2.\n",
        "\n",
        "Une dernière hypothèse intéressante serait que cette fonction soit fondée sur des principes théoriques valables aux échecs classiques, mais pas en 5x6. L'intérêt de cette variante pour les joueurs évoqué en introduction se reflèterait donc ici. \n",
        "\n",
        "\n",
        "\n",
        "Nous ne sommes pas allés plus loin dans l'étude statistique de ces algorithmes car l'essentiel était qu'ils soient capables de jouer convenablement contre un utilisateur, ce qui est le cas. (Naël a réussi à battre minimax à profondeur 4 avec les blancs et forcer le nul avec les noirs, mais pas de résultat contre alpha-beta). Nous avons cependant pensé à quelques pistes qu'il serait éventuellement intéressant d'explorer. Tout d'abord, il serait intéressant étudier l'évolution des écarts de résultats avec la profondeur (en gardant la même profondeur pour les algorithmes qui s'affrontent) ; le problème est que pour une profondeur de 1 ou 2, l'algorithme n'est pas très intelligent, et qu'à une profondeur de 5 ou plus, cela prend beaucoup de temps à tourner.\n",
        "\n",
        "Nous pourrions aussi tenter de voir à partir de quelle profondeur evaluate_2 \"rattrape\" evaluate_1 (dont la profondeur resterait fixe lors du procédé).\n",
        "\n",
        "Dans tout ces cas de figure, il faudrait bien évidemment augmenter la variable \"duration\" (et la garder égale entre les algorithmes qui s'affrontent) pour ne pas limiter le parcours des coups possibles par l'algorithme."
      ]
    }
  ]
}